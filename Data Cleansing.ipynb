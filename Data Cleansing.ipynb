{
 "cells": [
  {
   "cell_type": "markdown",
   "metadata": {},
   "source": [
    "## 데이터 전처리"
   ]
  },
  {
   "cell_type": "code",
   "execution_count": 1,
   "metadata": {},
   "outputs": [],
   "source": [
    "import pandas as pd\n",
    "import numpy as np"
   ]
  },
  {
   "cell_type": "markdown",
   "metadata": {},
   "source": [
    "### 1. 크롤링된 데이터 불러오기 및 전처리"
   ]
  },
  {
   "cell_type": "markdown",
   "metadata": {},
   "source": [
    "#### 1-1. df_midterm (경기결과 + 날씨)"
   ]
  },
  {
   "cell_type": "markdown",
   "metadata": {},
   "source": [
    "##### 1) 데이터 불러오기"
   ]
  },
  {
   "cell_type": "code",
   "execution_count": 2,
   "metadata": {},
   "outputs": [
    {
     "data": {
      "text/html": [
       "<div>\n",
       "<style scoped>\n",
       "    .dataframe tbody tr th:only-of-type {\n",
       "        vertical-align: middle;\n",
       "    }\n",
       "\n",
       "    .dataframe tbody tr th {\n",
       "        vertical-align: top;\n",
       "    }\n",
       "\n",
       "    .dataframe thead th {\n",
       "        text-align: right;\n",
       "    }\n",
       "</style>\n",
       "<table border=\"1\" class=\"dataframe\">\n",
       "  <thead>\n",
       "    <tr style=\"text-align: right;\">\n",
       "      <th></th>\n",
       "      <th>label</th>\n",
       "      <th>ymd</th>\n",
       "      <th>filed</th>\n",
       "      <th>time</th>\n",
       "      <th>팀0</th>\n",
       "      <th>H/A0</th>\n",
       "      <th>팀1</th>\n",
       "      <th>H/A1</th>\n",
       "      <th>woba0</th>\n",
       "      <th>woba1</th>\n",
       "      <th>평균기온</th>\n",
       "      <th>강수량</th>\n",
       "      <th>평균풍속</th>\n",
       "      <th>상대습도</th>\n",
       "    </tr>\n",
       "  </thead>\n",
       "  <tbody>\n",
       "    <tr>\n",
       "      <th>714</th>\n",
       "      <td>0</td>\n",
       "      <td>20190929</td>\n",
       "      <td>9</td>\n",
       "      <td>14.0</td>\n",
       "      <td>3</td>\n",
       "      <td>0</td>\n",
       "      <td>8</td>\n",
       "      <td>1</td>\n",
       "      <td>0.323111</td>\n",
       "      <td>0.298750</td>\n",
       "      <td>22.7</td>\n",
       "      <td>0.0</td>\n",
       "      <td>2.9</td>\n",
       "      <td>72.3</td>\n",
       "    </tr>\n",
       "    <tr>\n",
       "      <th>715</th>\n",
       "      <td>0</td>\n",
       "      <td>20190930</td>\n",
       "      <td>1</td>\n",
       "      <td>18.5</td>\n",
       "      <td>2</td>\n",
       "      <td>1</td>\n",
       "      <td>7</td>\n",
       "      <td>0</td>\n",
       "      <td>0.331000</td>\n",
       "      <td>0.317125</td>\n",
       "      <td>22.4</td>\n",
       "      <td>0.0</td>\n",
       "      <td>5.8</td>\n",
       "      <td>61.0</td>\n",
       "    </tr>\n",
       "    <tr>\n",
       "      <th>716</th>\n",
       "      <td>0</td>\n",
       "      <td>20190930</td>\n",
       "      <td>9</td>\n",
       "      <td>18.5</td>\n",
       "      <td>3</td>\n",
       "      <td>0</td>\n",
       "      <td>8</td>\n",
       "      <td>1</td>\n",
       "      <td>0.315333</td>\n",
       "      <td>0.297500</td>\n",
       "      <td>22.1</td>\n",
       "      <td>0.0</td>\n",
       "      <td>3.2</td>\n",
       "      <td>76.6</td>\n",
       "    </tr>\n",
       "    <tr>\n",
       "      <th>717</th>\n",
       "      <td>1</td>\n",
       "      <td>20191001</td>\n",
       "      <td>1</td>\n",
       "      <td>18.5</td>\n",
       "      <td>4</td>\n",
       "      <td>0</td>\n",
       "      <td>9</td>\n",
       "      <td>1</td>\n",
       "      <td>0.361750</td>\n",
       "      <td>0.374222</td>\n",
       "      <td>23.1</td>\n",
       "      <td>0.0</td>\n",
       "      <td>6.5</td>\n",
       "      <td>67.1</td>\n",
       "    </tr>\n",
       "    <tr>\n",
       "      <th>718</th>\n",
       "      <td>1</td>\n",
       "      <td>20191001</td>\n",
       "      <td>4</td>\n",
       "      <td>18.5</td>\n",
       "      <td>7</td>\n",
       "      <td>1</td>\n",
       "      <td>10</td>\n",
       "      <td>0</td>\n",
       "      <td>0.312625</td>\n",
       "      <td>0.316444</td>\n",
       "      <td>22.4</td>\n",
       "      <td>9.8</td>\n",
       "      <td>6.5</td>\n",
       "      <td>95.3</td>\n",
       "    </tr>\n",
       "  </tbody>\n",
       "</table>\n",
       "</div>"
      ],
      "text/plain": [
       "     label       ymd  filed  time  팀0  H/A0  팀1  H/A1     woba0     woba1  \\\n",
       "714      0  20190929      9  14.0   3     0   8     1  0.323111  0.298750   \n",
       "715      0  20190930      1  18.5   2     1   7     0  0.331000  0.317125   \n",
       "716      0  20190930      9  18.5   3     0   8     1  0.315333  0.297500   \n",
       "717      1  20191001      1  18.5   4     0   9     1  0.361750  0.374222   \n",
       "718      1  20191001      4  18.5   7     1  10     0  0.312625  0.316444   \n",
       "\n",
       "     평균기온  강수량  평균풍속  상대습도  \n",
       "714  22.7  0.0   2.9  72.3  \n",
       "715  22.4  0.0   5.8  61.0  \n",
       "716  22.1  0.0   3.2  76.6  \n",
       "717  23.1  0.0   6.5  67.1  \n",
       "718  22.4  9.8   6.5  95.3  "
      ]
     },
     "execution_count": 2,
     "metadata": {},
     "output_type": "execute_result"
    }
   ],
   "source": [
    "df_midterm = pd.read_excel('temp.xlsx')\n",
    "df_midterm.tail()"
   ]
  },
  {
   "cell_type": "markdown",
   "metadata": {},
   "source": [
    "##### 2) 데이터 전처리"
   ]
  },
  {
   "cell_type": "code",
   "execution_count": 30,
   "metadata": {},
   "outputs": [
    {
     "name": "stdout",
     "output_type": "stream",
     "text": [
      "[8 1 7 4 2 9 6 5 3]\n"
     ]
    }
   ],
   "source": [
    "# 필요없는 데이터 제거"
   ]
  },
  {
   "cell_type": "markdown",
   "metadata": {},
   "source": [
    "#### 1-2. df_entry (선발라인업)"
   ]
  },
  {
   "cell_type": "markdown",
   "metadata": {},
   "source": [
    "#####  1) 데이터 불러오기"
   ]
  },
  {
   "cell_type": "code",
   "execution_count": 93,
   "metadata": {
    "scrolled": true
   },
   "outputs": [
    {
     "data": {
      "text/html": [
       "<div>\n",
       "<style scoped>\n",
       "    .dataframe tbody tr th:only-of-type {\n",
       "        vertical-align: middle;\n",
       "    }\n",
       "\n",
       "    .dataframe tbody tr th {\n",
       "        vertical-align: top;\n",
       "    }\n",
       "\n",
       "    .dataframe thead th {\n",
       "        text-align: right;\n",
       "    }\n",
       "</style>\n",
       "<table border=\"1\" class=\"dataframe\">\n",
       "  <thead>\n",
       "    <tr style=\"text-align: right;\">\n",
       "      <th></th>\n",
       "      <th>team</th>\n",
       "      <th>date</th>\n",
       "      <th>player1</th>\n",
       "      <th>position1</th>\n",
       "      <th>type1</th>\n",
       "      <th>player2</th>\n",
       "      <th>position2</th>\n",
       "      <th>type2</th>\n",
       "      <th>player3</th>\n",
       "      <th>position3</th>\n",
       "      <th>...</th>\n",
       "      <th>type8</th>\n",
       "      <th>player9</th>\n",
       "      <th>position9</th>\n",
       "      <th>type9</th>\n",
       "      <th>pitcher</th>\n",
       "      <th>position</th>\n",
       "      <th>type</th>\n",
       "      <th>result</th>\n",
       "      <th>opponent_p</th>\n",
       "      <th>type.1</th>\n",
       "    </tr>\n",
       "  </thead>\n",
       "  <tbody>\n",
       "    <tr>\n",
       "      <th>4459</th>\n",
       "      <td>18 kt</td>\n",
       "      <td>2018-03-29</td>\n",
       "      <td>오태곤</td>\n",
       "      <td>LF</td>\n",
       "      <td>R</td>\n",
       "      <td>강백호</td>\n",
       "      <td>DH</td>\n",
       "      <td>L</td>\n",
       "      <td>로하스</td>\n",
       "      <td>CF</td>\n",
       "      <td>...</td>\n",
       "      <td>R</td>\n",
       "      <td>정현</td>\n",
       "      <td>SS</td>\n",
       "      <td>R</td>\n",
       "      <td>류희운</td>\n",
       "      <td>P</td>\n",
       "      <td>우투</td>\n",
       "      <td>kt 7:1 SK</td>\n",
       "      <td>문승원</td>\n",
       "      <td>우투</td>\n",
       "    </tr>\n",
       "    <tr>\n",
       "      <th>4460</th>\n",
       "      <td>18 kt</td>\n",
       "      <td>2018-03-28</td>\n",
       "      <td>이진영</td>\n",
       "      <td>DH</td>\n",
       "      <td>L</td>\n",
       "      <td>강백호</td>\n",
       "      <td>LF</td>\n",
       "      <td>L</td>\n",
       "      <td>로하스</td>\n",
       "      <td>CF</td>\n",
       "      <td>...</td>\n",
       "      <td>R</td>\n",
       "      <td>정현</td>\n",
       "      <td>SS</td>\n",
       "      <td>R</td>\n",
       "      <td>금민철</td>\n",
       "      <td>P</td>\n",
       "      <td>좌투</td>\n",
       "      <td>kt 8:5 SK</td>\n",
       "      <td>박종훈</td>\n",
       "      <td>우언</td>\n",
       "    </tr>\n",
       "    <tr>\n",
       "      <th>4461</th>\n",
       "      <td>18 kt</td>\n",
       "      <td>2018-03-27</td>\n",
       "      <td>심우준</td>\n",
       "      <td>SS</td>\n",
       "      <td>R</td>\n",
       "      <td>박경수</td>\n",
       "      <td>2B</td>\n",
       "      <td>R</td>\n",
       "      <td>로하스</td>\n",
       "      <td>CF</td>\n",
       "      <td>...</td>\n",
       "      <td>L</td>\n",
       "      <td>장성우</td>\n",
       "      <td>C</td>\n",
       "      <td>R</td>\n",
       "      <td>고영표</td>\n",
       "      <td>P</td>\n",
       "      <td>우언</td>\n",
       "      <td>kt 5:8 SK</td>\n",
       "      <td>산체스</td>\n",
       "      <td>우투</td>\n",
       "    </tr>\n",
       "    <tr>\n",
       "      <th>4462</th>\n",
       "      <td>18 kt</td>\n",
       "      <td>2018-03-25</td>\n",
       "      <td>정현</td>\n",
       "      <td>SS</td>\n",
       "      <td>R</td>\n",
       "      <td>오정복</td>\n",
       "      <td>DH</td>\n",
       "      <td>R</td>\n",
       "      <td>로하스</td>\n",
       "      <td>CF</td>\n",
       "      <td>...</td>\n",
       "      <td>L</td>\n",
       "      <td>장성우</td>\n",
       "      <td>C</td>\n",
       "      <td>R</td>\n",
       "      <td>주권</td>\n",
       "      <td>P</td>\n",
       "      <td>우투</td>\n",
       "      <td>kt 1:14 KIA</td>\n",
       "      <td>양현종</td>\n",
       "      <td>좌투</td>\n",
       "    </tr>\n",
       "    <tr>\n",
       "      <th>4463</th>\n",
       "      <td>18 kt</td>\n",
       "      <td>2018-03-24</td>\n",
       "      <td>심우준</td>\n",
       "      <td>SS</td>\n",
       "      <td>R</td>\n",
       "      <td>이진영</td>\n",
       "      <td>DH</td>\n",
       "      <td>L</td>\n",
       "      <td>로하스</td>\n",
       "      <td>CF</td>\n",
       "      <td>...</td>\n",
       "      <td>L</td>\n",
       "      <td>장성우</td>\n",
       "      <td>C</td>\n",
       "      <td>R</td>\n",
       "      <td>피어밴드</td>\n",
       "      <td>P</td>\n",
       "      <td>좌투</td>\n",
       "      <td>kt 5:4 KIA</td>\n",
       "      <td>헥터</td>\n",
       "      <td>우투</td>\n",
       "    </tr>\n",
       "  </tbody>\n",
       "</table>\n",
       "<p>5 rows × 35 columns</p>\n",
       "</div>"
      ],
      "text/plain": [
       "       team         date player1 position1 type1 player2 position2 type2  \\\n",
       "4459  18 kt  2018-03-29      오태곤        LF     R     강백호        DH     L   \n",
       "4460  18 kt  2018-03-28      이진영        DH     L     강백호        LF     L   \n",
       "4461  18 kt  2018-03-27      심우준        SS     R     박경수        2B     R   \n",
       "4462  18 kt  2018-03-25       정현        SS     R     오정복        DH     R   \n",
       "4463  18 kt  2018-03-24      심우준        SS     R     이진영        DH     L   \n",
       "\n",
       "     player3 position3  ... type8 player9 position9 type9 pitcher position  \\\n",
       "4459     로하스        CF  ...     R      정현        SS     R     류희운        P   \n",
       "4460     로하스        CF  ...     R      정현        SS     R     금민철        P   \n",
       "4461     로하스        CF  ...     L     장성우         C     R     고영표        P   \n",
       "4462     로하스        CF  ...     L     장성우         C     R      주권        P   \n",
       "4463     로하스        CF  ...     L     장성우         C     R    피어밴드        P   \n",
       "\n",
       "     type       result opponent_p type.1  \n",
       "4459   우투    kt 7:1 SK        문승원     우투  \n",
       "4460   좌투    kt 8:5 SK        박종훈     우언  \n",
       "4461   우언    kt 5:8 SK        산체스     우투  \n",
       "4462   우투  kt 1:14 KIA        양현종     좌투  \n",
       "4463   좌투   kt 5:4 KIA         헥터     우투  \n",
       "\n",
       "[5 rows x 35 columns]"
      ]
     },
     "execution_count": 93,
     "metadata": {},
     "output_type": "execute_result"
    }
   ],
   "source": [
    "df_entry1 = pd.read_excel('player_entry.xlsx')\n",
    "df_entry = df_entry1.iloc[:,1:] # index 값 제거\n",
    "df_entry.tail()"
   ]
  },
  {
   "cell_type": "code",
   "execution_count": 94,
   "metadata": {},
   "outputs": [
    {
     "data": {
      "text/plain": [
       "Index(['team', 'date', 'player1', 'position1', 'type1', 'player2', 'position2',\n",
       "       'type2', 'player3', 'position3', 'type3', 'player4', 'position4',\n",
       "       'type4', 'player5', 'position5', 'type5', 'player6', 'position6',\n",
       "       'type6', 'player7', 'position7', 'type7', 'player8', 'position8',\n",
       "       'type8', 'player9', 'position9', 'type9', 'pitcher', 'position', 'type',\n",
       "       'result', 'opponent_p', 'type.1'],\n",
       "      dtype='object')"
      ]
     },
     "execution_count": 94,
     "metadata": {},
     "output_type": "execute_result"
    }
   ],
   "source": [
    "df_entry.columns"
   ]
  },
  {
   "cell_type": "markdown",
   "metadata": {},
   "source": [
    "##### 2) 데이터 전처리"
   ]
  },
  {
   "cell_type": "code",
   "execution_count": 95,
   "metadata": {},
   "outputs": [
    {
     "name": "stdout",
     "output_type": "stream",
     "text": [
      "After length : 4323\n",
      "Removed data length : 141\n"
     ]
    }
   ],
   "source": [
    "# dummy data 제거\n",
    "# 특징 : pitcher~type column 값이 모두 같은 값을 가짐\n",
    "idx_num = df_entry[df_entry['pitcher'] == df_entry['position']].index\n",
    "df_entry = df_entry.drop(idx_num)\n",
    "df_entry = df_entry.reset_index(drop=True) # reorder index\n",
    "\n",
    "print('After length : ' + str(len(df_entry)))\n",
    "print('Removed data length : ' + str(len(idx_num)))"
   ]
  },
  {
   "cell_type": "code",
   "execution_count": 96,
   "metadata": {},
   "outputs": [],
   "source": [
    "# 필요없는 데이터 제거\n",
    "# opponent_p & type.1"
   ]
  },
  {
   "cell_type": "code",
   "execution_count": 97,
   "metadata": {},
   "outputs": [
    {
     "name": "stdout",
     "output_type": "stream",
     "text": [
      "team_list : ['20 KIA', '19 KIA', '18 KIA', '20 삼성', '19 삼성', '18 삼성', '20 롯데', '19 롯데', '18 롯데', '20 두산', '19 두산', '18 두산', '20 SK', '19 SK', '18 SK', '20 LG', '19 LG', '18 LG', '20 한화', '19 한화', '18 한화', '20 NC', '19 NC', '18 NC', '20 키움', '19 키움', '18 넥센', '20 KT', '19 KT', '18 kt']   , len(30)\n"
     ]
    }
   ],
   "source": [
    "# team 이름 변경\n",
    "\n",
    "# df_entry의 team_name 확인\n",
    "team_list = df_entry['team'].unique().tolist()\n",
    "print('team_list : ' + str(team_list) + '   , len(' + str(len(team_list)) + ')')\n",
    "\n",
    "# team_name이 key, team_num이 value인 dictionary  dict_team 생성\n",
    "# team_name = [KIA, 삼성, 롯데, 두산, Sk, LG, 한화, NC, 키움, KT]\n",
    "team_num = [5, 6, 7, 9, 3, 2, 8, 4, 10, 1]\n",
    "dict_team = {}\n",
    "for i in range(10):\n",
    "    for idx in range(3):\n",
    "        idx = i * 3 + idx\n",
    "        dict_team[team_list[idx]] = team_num[i]\n",
    "\n",
    "# df_entry의 team이름 변환\n",
    "for i in team_list:\n",
    "    df_entry.loc[df_entry['team'] == i, 'team'] = dict_team[i]"
   ]
  },
  {
   "cell_type": "code",
   "execution_count": 99,
   "metadata": {},
   "outputs": [
    {
     "data": {
      "text/html": [
       "<div>\n",
       "<style scoped>\n",
       "    .dataframe tbody tr th:only-of-type {\n",
       "        vertical-align: middle;\n",
       "    }\n",
       "\n",
       "    .dataframe tbody tr th {\n",
       "        vertical-align: top;\n",
       "    }\n",
       "\n",
       "    .dataframe thead th {\n",
       "        text-align: right;\n",
       "    }\n",
       "</style>\n",
       "<table border=\"1\" class=\"dataframe\">\n",
       "  <thead>\n",
       "    <tr style=\"text-align: right;\">\n",
       "      <th></th>\n",
       "      <th>team</th>\n",
       "      <th>date</th>\n",
       "      <th>player1</th>\n",
       "      <th>position1</th>\n",
       "      <th>type1</th>\n",
       "      <th>player2</th>\n",
       "      <th>position2</th>\n",
       "      <th>type2</th>\n",
       "      <th>player3</th>\n",
       "      <th>position3</th>\n",
       "      <th>...</th>\n",
       "      <th>type8</th>\n",
       "      <th>player9</th>\n",
       "      <th>position9</th>\n",
       "      <th>type9</th>\n",
       "      <th>pitcher</th>\n",
       "      <th>position</th>\n",
       "      <th>type</th>\n",
       "      <th>result</th>\n",
       "      <th>opponent_p</th>\n",
       "      <th>type.1</th>\n",
       "    </tr>\n",
       "  </thead>\n",
       "  <tbody>\n",
       "    <tr>\n",
       "      <th>0</th>\n",
       "      <td>5</td>\n",
       "      <td>2020-10-31</td>\n",
       "      <td>최정민</td>\n",
       "      <td>2B</td>\n",
       "      <td>L</td>\n",
       "      <td>이진영</td>\n",
       "      <td>RF</td>\n",
       "      <td>R</td>\n",
       "      <td>황대인</td>\n",
       "      <td>1B</td>\n",
       "      <td>...</td>\n",
       "      <td>L</td>\n",
       "      <td>김호령</td>\n",
       "      <td>CF</td>\n",
       "      <td>R</td>\n",
       "      <td>임기영</td>\n",
       "      <td>P</td>\n",
       "      <td>우언</td>\n",
       "      <td>NC 3:4 KIA</td>\n",
       "      <td>신민혁</td>\n",
       "      <td>우투</td>\n",
       "    </tr>\n",
       "    <tr>\n",
       "      <th>1</th>\n",
       "      <td>5</td>\n",
       "      <td>2020-10-30</td>\n",
       "      <td>최원준</td>\n",
       "      <td>CF</td>\n",
       "      <td>L</td>\n",
       "      <td>김선빈</td>\n",
       "      <td>2B</td>\n",
       "      <td>R</td>\n",
       "      <td>터커</td>\n",
       "      <td>RF</td>\n",
       "      <td>...</td>\n",
       "      <td>L</td>\n",
       "      <td>박찬호</td>\n",
       "      <td>SS</td>\n",
       "      <td>R</td>\n",
       "      <td>가뇽</td>\n",
       "      <td>P</td>\n",
       "      <td>우투</td>\n",
       "      <td>KIA 2:13 롯데</td>\n",
       "      <td>샘슨</td>\n",
       "      <td>우투</td>\n",
       "    </tr>\n",
       "    <tr>\n",
       "      <th>2</th>\n",
       "      <td>5</td>\n",
       "      <td>2020-10-29</td>\n",
       "      <td>최원준</td>\n",
       "      <td>CF</td>\n",
       "      <td>L</td>\n",
       "      <td>김선빈</td>\n",
       "      <td>2B</td>\n",
       "      <td>R</td>\n",
       "      <td>터커</td>\n",
       "      <td>RF</td>\n",
       "      <td>...</td>\n",
       "      <td>L</td>\n",
       "      <td>박찬호</td>\n",
       "      <td>SS</td>\n",
       "      <td>R</td>\n",
       "      <td>양현종</td>\n",
       "      <td>P</td>\n",
       "      <td>좌투</td>\n",
       "      <td>두산 9:2 KIA</td>\n",
       "      <td>유희관</td>\n",
       "      <td>좌투</td>\n",
       "    </tr>\n",
       "    <tr>\n",
       "      <th>3</th>\n",
       "      <td>5</td>\n",
       "      <td>2020-10-28</td>\n",
       "      <td>최원준</td>\n",
       "      <td>CF</td>\n",
       "      <td>L</td>\n",
       "      <td>김선빈</td>\n",
       "      <td>2B</td>\n",
       "      <td>R</td>\n",
       "      <td>터커</td>\n",
       "      <td>RF</td>\n",
       "      <td>...</td>\n",
       "      <td>L</td>\n",
       "      <td>박찬호</td>\n",
       "      <td>SS</td>\n",
       "      <td>R</td>\n",
       "      <td>김현수</td>\n",
       "      <td>P</td>\n",
       "      <td>우투</td>\n",
       "      <td>KT 3:4 KIA</td>\n",
       "      <td>쿠에바스</td>\n",
       "      <td>우투</td>\n",
       "    </tr>\n",
       "    <tr>\n",
       "      <th>4</th>\n",
       "      <td>5</td>\n",
       "      <td>2020-10-27</td>\n",
       "      <td>최원준</td>\n",
       "      <td>CF</td>\n",
       "      <td>L</td>\n",
       "      <td>김선빈</td>\n",
       "      <td>2B</td>\n",
       "      <td>R</td>\n",
       "      <td>터커</td>\n",
       "      <td>RF</td>\n",
       "      <td>...</td>\n",
       "      <td>L</td>\n",
       "      <td>박찬호</td>\n",
       "      <td>SS</td>\n",
       "      <td>R</td>\n",
       "      <td>장현식</td>\n",
       "      <td>P</td>\n",
       "      <td>우투</td>\n",
       "      <td>KT 7:6 KIA</td>\n",
       "      <td>데스파이네</td>\n",
       "      <td>우투</td>\n",
       "    </tr>\n",
       "  </tbody>\n",
       "</table>\n",
       "<p>5 rows × 35 columns</p>\n",
       "</div>"
      ],
      "text/plain": [
       "  team         date player1 position1 type1 player2 position2 type2 player3  \\\n",
       "0    5  2020-10-31      최정민        2B     L     이진영        RF     R     황대인   \n",
       "1    5  2020-10-30      최원준        CF     L     김선빈        2B     R      터커   \n",
       "2    5  2020-10-29      최원준        CF     L     김선빈        2B     R      터커   \n",
       "3    5  2020-10-28      최원준        CF     L     김선빈        2B     R      터커   \n",
       "4    5  2020-10-27      최원준        CF     L     김선빈        2B     R      터커   \n",
       "\n",
       "  position3  ... type8 player9 position9 type9 pitcher position type  \\\n",
       "0        1B  ...     L     김호령        CF     R     임기영        P   우언   \n",
       "1        RF  ...     L     박찬호        SS     R      가뇽        P   우투   \n",
       "2        RF  ...     L     박찬호        SS     R     양현종        P   좌투   \n",
       "3        RF  ...     L     박찬호        SS     R     김현수        P   우투   \n",
       "4        RF  ...     L     박찬호        SS     R     장현식        P   우투   \n",
       "\n",
       "        result opponent_p type.1  \n",
       "0   NC 3:4 KIA        신민혁     우투  \n",
       "1  KIA 2:13 롯데         샘슨     우투  \n",
       "2   두산 9:2 KIA        유희관     좌투  \n",
       "3   KT 3:4 KIA       쿠에바스     우투  \n",
       "4   KT 7:6 KIA      데스파이네     우투  \n",
       "\n",
       "[5 rows x 35 columns]"
      ]
     },
     "execution_count": 99,
     "metadata": {},
     "output_type": "execute_result"
    }
   ],
   "source": [
    "df_entry.head()"
   ]
  },
  {
   "cell_type": "markdown",
   "metadata": {},
   "source": [
    "#### 1-3. df_pitcher (투수 데이터)"
   ]
  },
  {
   "cell_type": "markdown",
   "metadata": {},
   "source": [
    "##### 1) 데이터 불러오기"
   ]
  },
  {
   "cell_type": "code",
   "execution_count": null,
   "metadata": {},
   "outputs": [],
   "source": []
  },
  {
   "cell_type": "markdown",
   "metadata": {},
   "source": [
    "##### 2) 데이터 전처리"
   ]
  },
  {
   "cell_type": "code",
   "execution_count": null,
   "metadata": {},
   "outputs": [],
   "source": []
  },
  {
   "cell_type": "markdown",
   "metadata": {},
   "source": [
    "#### 1-4. df_hitter (타자 데이터)"
   ]
  },
  {
   "cell_type": "markdown",
   "metadata": {},
   "source": [
    "##### 1) 데이터 불러오기"
   ]
  },
  {
   "cell_type": "code",
   "execution_count": null,
   "metadata": {},
   "outputs": [],
   "source": []
  },
  {
   "cell_type": "markdown",
   "metadata": {},
   "source": [
    "##### 2) 데이터 전처리"
   ]
  },
  {
   "cell_type": "code",
   "execution_count": null,
   "metadata": {},
   "outputs": [],
   "source": []
  },
  {
   "cell_type": "markdown",
   "metadata": {},
   "source": [
    "### 2. 데이터 병합"
   ]
  },
  {
   "cell_type": "markdown",
   "metadata": {},
   "source": [
    "#### 2-1. df_midterm + df_entry"
   ]
  },
  {
   "cell_type": "code",
   "execution_count": null,
   "metadata": {},
   "outputs": [],
   "source": []
  },
  {
   "cell_type": "code",
   "execution_count": null,
   "metadata": {},
   "outputs": [],
   "source": []
  },
  {
   "cell_type": "code",
   "execution_count": null,
   "metadata": {},
   "outputs": [],
   "source": []
  },
  {
   "cell_type": "markdown",
   "metadata": {},
   "source": [
    "### 3. 병합된 데이터 전처리"
   ]
  },
  {
   "cell_type": "code",
   "execution_count": null,
   "metadata": {},
   "outputs": [],
   "source": [
    "# hitter, pitcher 수치값 평균"
   ]
  },
  {
   "cell_type": "code",
   "execution_count": null,
   "metadata": {},
   "outputs": [],
   "source": [
    "# 병합 후 필요없는 데이터 제거"
   ]
  },
  {
   "cell_type": "markdown",
   "metadata": {},
   "source": [
    "### 4. 데이터 저장"
   ]
  },
  {
   "cell_type": "code",
   "execution_count": null,
   "metadata": {},
   "outputs": [],
   "source": []
  }
 ],
 "metadata": {
  "kernelspec": {
   "display_name": "Python 3",
   "language": "python",
   "name": "python3"
  },
  "language_info": {
   "codemirror_mode": {
    "name": "ipython",
    "version": 3
   },
   "file_extension": ".py",
   "mimetype": "text/x-python",
   "name": "python",
   "nbconvert_exporter": "python",
   "pygments_lexer": "ipython3",
   "version": "3.8.3"
  }
 },
 "nbformat": 4,
 "nbformat_minor": 4
}
